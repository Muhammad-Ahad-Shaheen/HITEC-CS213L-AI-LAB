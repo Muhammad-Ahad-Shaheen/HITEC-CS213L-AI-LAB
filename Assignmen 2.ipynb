{
 "cells": [
  {
   "cell_type": "code",
   "execution_count": null,
   "id": "0dba121a",
   "metadata": {},
   "outputs": [],
   "source": [
    "\n",
    "d = {\n",
    "    '0': 'Zero',\n",
    "    '1': 'One',\n",
    "    '2': 'Two',\n",
    "    '3': 'Three',\n",
    "    '4': 'Four',\n",
    "    '5': 'Five',\n",
    "    '6': 'Six',\n",
    "    '7': 'Seven',\n",
    "    '8': 'Eight',\n",
    "    '9': 'Nine'\n",
    "}\n",
    "\n",
    "n = input(\"Enter a number: \")\n",
    "for i in n:\n",
    "    print(d[i])\n"
   ]
  },
  {
   "cell_type": "code",
   "execution_count": null,
   "id": "56967ef3",
   "metadata": {},
   "outputs": [],
   "source": [
    "n = int(input(\"write a number\"))\n",
    "result = {}\n",
    "for i in range (1,n+1):\n",
    "    result[(i)] = i * i\n",
    "print(result)"
   ]
  },
  {
   "cell_type": "code",
   "execution_count": null,
   "id": "45864c71",
   "metadata": {},
   "outputs": [],
   "source": [
    "Ls = [(), (),('',), ('a', 'b'), (), ('a', 'b', 'c'), (), ('d')]\n",
    "for (i) in range (len(Ls)):\n",
    "    for (k) in range (len(Ls[i])):\n",
    "        if len(Ls[i]) != 0:\n",
    "            print((Ls[i]))\n",
    "            break"
   ]
  },
  {
   "cell_type": "code",
   "execution_count": null,
   "id": "a8d83aa2",
   "metadata": {},
   "outputs": [],
   "source": [
    "ls = [1,2,4,2,6]\n",
    "max = 0\n",
    "for (i) in range (len(ls)):\n",
    "    if(ls[i]>max):\n",
    "        max = ls[i]\n",
    "print(max) "
   ]
  },
  {
   "cell_type": "code",
   "execution_count": null,
   "id": "616328e2",
   "metadata": {},
   "outputs": [],
   "source": [
    "List= (1, 2, 4, 2, 6)\n",
    "sum =0\n",
    "product =1\n",
    "for(i) in range(len(List)):\n",
    "    sum +=List[i]\n",
    "    product *=List[i]\n",
    "print(f\"Sum = {sum}\")\n",
    "print(f\"Product = {product}\" )"
   ]
  },
  {
   "cell_type": "code",
   "execution_count": null,
   "id": "4ab1257d",
   "metadata": {},
   "outputs": [],
   "source": [
    "sl= ['abc', 'xyz', 'aba', '1221','xyzzyx', 'aa','122']\n",
    "count=0\n",
    "for (i) in range (len(sl)):\n",
    "    if len(sl[i]) >= 2 :\n",
    "        for (k) in range (len(sl[i])):\n",
    "            if sl[i][0] == sl[i][-1]:\n",
    "                print(sl[i])\n",
    "                count+=1\n",
    "                break\n",
    "print(f\"Count is {count}\")"
   ]
  }
 ],
 "metadata": {
  "kernelspec": {
   "display_name": "Python 3",
   "language": "python",
   "name": "python3"
  },
  "language_info": {
   "codemirror_mode": {
    "name": "ipython",
    "version": 3
   },
   "file_extension": ".py",
   "mimetype": "text/x-python",
   "name": "python",
   "nbconvert_exporter": "python",
   "pygments_lexer": "ipython3",
   "version": "3.13.9"
  }
 },
 "nbformat": 4,
 "nbformat_minor": 5
}
