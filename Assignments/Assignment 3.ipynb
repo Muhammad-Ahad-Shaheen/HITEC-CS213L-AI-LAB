{
 "cells": [
  {
   "cell_type": "code",
   "execution_count": 61,
   "id": "a44c9a68",
   "metadata": {},
   "outputs": [
    {
     "name": "stdout",
     "output_type": "stream",
     "text": [
      "2\n",
      "4\n",
      "6\n",
      "8\n",
      "10\n",
      "12\n"
     ]
    }
   ],
   "source": [
    "num = int(input(\"Enter a number till that u want Even number of: \"))\n",
    "for i in range (2,num+2,2):\n",
    "    print(i)\n",
    "    "
   ]
  },
  {
   "cell_type": "code",
   "execution_count": 47,
   "id": "8b34b8dc",
   "metadata": {},
   "outputs": [
    {
     "name": "stdout",
     "output_type": "stream",
     "text": [
      "[2, 1, 3]\n"
     ]
    }
   ],
   "source": [
    "length=int(input(\"Enter the Length of List\"))\n",
    "sl=[]\n",
    "for i in range (length):\n",
    "    num =int(input(\"Enter the numbers: \"))\n",
    "    sl.append(num)\n",
    "ul=[]\n",
    "for i in range(length):\n",
    "    if sl[i] not in ul:\n",
    "        ul.append(sl[i])\n",
    "print(ul)"
   ]
  },
  {
   "cell_type": "code",
   "execution_count": null,
   "id": "105469b0",
   "metadata": {},
   "outputs": [],
   "source": [
    "def factorial(num):\n",
    "    if num<0:\n",
    "        return \"Error: Wrong Number\"\n",
    "    elif num ==0 or num ==1:\n",
    "        return 1\n",
    "    else:\n",
    "        result =1\n",
    "        for i in range(1,num+1):\n",
    "            result *=i\n",
    "    return result\n",
    "\n",
    "print(factorial(4))"
   ]
  }
 ],
 "metadata": {
  "kernelspec": {
   "display_name": "Python 3",
   "language": "python",
   "name": "python3"
  },
  "language_info": {
   "codemirror_mode": {
    "name": "ipython",
    "version": 3
   },
   "file_extension": ".py",
   "mimetype": "text/x-python",
   "name": "python",
   "nbconvert_exporter": "python",
   "pygments_lexer": "ipython3",
   "version": "3.13.9"
  }
 },
 "nbformat": 4,
 "nbformat_minor": 5
}
